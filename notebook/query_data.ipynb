{
 "cells": [
  {
   "cell_type": "code",
   "execution_count": null,
   "metadata": {},
   "outputs": [
    {
     "data": {
      "text/plain": [
       "True"
      ]
     },
     "execution_count": 12,
     "metadata": {},
     "output_type": "execute_result"
    }
   ],
   "source": [
    "import psycopg2\n",
    "import pandas as pd\n",
    "from dotenv import load_dotenv\n",
    "import os\n",
    "\n",
    "load_dotenv()"
   ]
  },
  {
   "cell_type": "code",
   "execution_count": null,
   "metadata": {},
   "outputs": [],
   "source": [
    "def execute_query_to_dataframe(query, params=None):\n",
    "    \"\"\"\n",
    "    Executes a SQL query on a PostgreSQL database and returns the result as a pandas DataFrame.\n",
    "\n",
    "    Args:\n",
    "        query (str): The SQL query to execute.\n",
    "        params (tuple, optional): Parameters to pass into the SQL query. Defaults to None.\n",
    "\n",
    "    Returns:\n",
    "        pd.DataFrame: The query results as a DataFrame.\n",
    "    \"\"\"\n",
    "    # Update the connection details\n",
    "    db_config = {\n",
    "        \"host\": \"localhost\",\n",
    "        \"database\": os.environ[\"TARGET_POSTGRES_DB\"],\n",
    "        \"user\": os.environ[\"TARGET_POSTGRES_USER\"],\n",
    "        \"password\": os.environ[\"TARGET_POSTGRES_PASSWORD\"],\n",
    "        \"port\": 5433\n",
    "    }\n",
    "\n",
    "    connection = None\n",
    "    try:\n",
    "        # Establish connection\n",
    "        connection = psycopg2.connect(**db_config)\n",
    "\n",
    "        # Use pandas to execute the query and return results\n",
    "        df = pd.read_sql_query(query, connection, params=params)\n",
    "        return df\n",
    "\n",
    "    except Exception as e:\n",
    "        print(f\"Error: {e}\")\n",
    "    finally:\n",
    "        # Ensure the connection is closed\n",
    "        if connection:\n",
    "            connection.close()\n",
    "\n",
    "    return None"
   ]
  },
  {
   "cell_type": "code",
   "execution_count": 11,
   "metadata": {},
   "outputs": [
    {
     "name": "stdout",
     "output_type": "stream",
     "text": [
      "Error: connection to server at \"localhost\" (127.0.0.1), port 5433 failed: FATAL:  password authentication failed for user \"northwind_user\"\n",
      "\n",
      "No results or an error occurred.\n"
     ]
    }
   ],
   "source": [
    "# Example Usage\n",
    "query = \"\"\"\n",
    "SELECT \n",
    "    od.order_id,\n",
    "    od.product_id,\n",
    "    od.unit_price,\n",
    "    od.quantity,\n",
    "    od.discount,\n",
    "    o.customer_id,\n",
    "    o.employee_id,\n",
    "    o.order_date,\n",
    "    o.required_date,\n",
    "    o.shipped_date,\n",
    "    o.ship_via,\n",
    "    o.freight,\n",
    "    o.ship_name,\n",
    "    o.ship_address,\n",
    "    o.ship_city,\n",
    "    o.ship_region,\n",
    "    o.ship_postal_code,\n",
    "    o.ship_country\n",
    "FROM \n",
    "    order_details AS od\n",
    "INNER JOIN \n",
    "    orders AS o\n",
    "ON \n",
    "    od.order_id = o.order_id;\n",
    "\"\"\"\n",
    "\n",
    "params = (\"value\",)  # Replace with your parameter if needed\n",
    "\n",
    "df = execute_query_to_dataframe(query, params)\n",
    "if df is not None:\n",
    "    display(df)  # Display the DataFrame in Jupyter Notebook\n",
    "else:\n",
    "    print(\"No results or an error occurred.\")"
   ]
  }
 ],
 "metadata": {
  "kernelspec": {
   "display_name": ".venv",
   "language": "python",
   "name": "python3"
  },
  "language_info": {
   "codemirror_mode": {
    "name": "ipython",
    "version": 3
   },
   "file_extension": ".py",
   "mimetype": "text/x-python",
   "name": "python",
   "nbconvert_exporter": "python",
   "pygments_lexer": "ipython3",
   "version": "3.10.12"
  }
 },
 "nbformat": 4,
 "nbformat_minor": 2
}
